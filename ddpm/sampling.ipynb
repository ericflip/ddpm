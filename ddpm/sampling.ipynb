{
 "cells": [
  {
   "cell_type": "code",
   "execution_count": 1,
   "metadata": {},
   "outputs": [],
   "source": [
    "%load_ext autoreload\n",
    "%autoreload 2"
   ]
  },
  {
   "cell_type": "code",
   "execution_count": 2,
   "metadata": {},
   "outputs": [],
   "source": [
    "from diffusion import GaussianDiffusion\n",
    "from torchvision.datasets import CIFAR10, FashionMNIST\n",
    "from torch.utils.data import DataLoader\n",
    "import torchvision.transforms.v2 as v2\n",
    "import matplotlib.pyplot as plt\n",
    "from matplotlib.pyplot import figure\n",
    "import torch\n",
    "from PIL import Image\n",
    "from unet import UNet\n",
    "import torchvision.transforms as transforms"
   ]
  },
  {
   "cell_type": "code",
   "execution_count": 3,
   "metadata": {},
   "outputs": [
    {
     "name": "stderr",
     "output_type": "stream",
     "text": [
      "/home/ubuntu/.cache/pypoetry/virtualenvs/ddpm-NolEjOLK-py3.10/lib/python3.10/site-packages/torchvision/transforms/v2/_deprecated.py:43: UserWarning: The transform `ToTensor()` is deprecated and will be removed in a future release. Instead, please use `v2.Compose([v2.ToImage(), v2.ToDtype(torch.float32, scale=True)])`.\n",
      "  warnings.warn(\n"
     ]
    }
   ],
   "source": [
    "path = \"./data\"\n",
    "dataset = FashionMNIST(root=path, train=True, download=True, transform=v2.Compose([\n",
    "    v2.ToTensor(),\n",
    "    v2.Resize((32, 32))\n",
    "]))\n",
    "\n",
    "dataloader = DataLoader(dataset, batch_size=2)"
   ]
  },
  {
   "cell_type": "code",
   "execution_count": 4,
   "metadata": {},
   "outputs": [],
   "source": [
    "def display_image(img):\n",
    "    \"\"\"\n",
    "    batch: (1, C, H, W)\n",
    "    \"\"\"\n",
    "    figure(figsize=(2, 2))\n",
    "    img = img.permute((1, 2, 0))\n",
    "    plt.imshow(img, cmap=\"gray\")"
   ]
  },
  {
   "cell_type": "code",
   "execution_count": 5,
   "metadata": {},
   "outputs": [
    {
     "name": "stderr",
     "output_type": "stream",
     "text": [
      "/home/ubuntu/.cache/pypoetry/virtualenvs/ddpm-NolEjOLK-py3.10/lib/python3.10/site-packages/torchvision/transforms/functional.py:1603: UserWarning: The default value of the antialias parameter of all the resizing transforms (Resize(), RandomResizedCrop(), etc.) will change from None to True in v0.17, in order to be consistent across the PIL and Tensor backends. To suppress this warning, directly pass antialias=True (recommended, future default), antialias=None (current default, which means False for Tensors and True for PIL), or antialias=False (only works on Tensors - PIL will still use antialiasing). This also applies if you are using the inference transforms from the models weights: update the call to weights.transforms(antialias=True).\n",
      "  warnings.warn(\n"
     ]
    }
   ],
   "source": [
    "for batch in dataloader:\n",
    "    X = batch[0]\n",
    "    break"
   ]
  },
  {
   "cell_type": "code",
   "execution_count": 6,
   "metadata": {},
   "outputs": [
    {
     "data": {
      "text/plain": [
       "torch.Size([2, 1, 32, 32])"
      ]
     },
     "execution_count": 6,
     "metadata": {},
     "output_type": "execute_result"
    }
   ],
   "source": [
    "X.shape"
   ]
  },
  {
   "cell_type": "code",
   "execution_count": 7,
   "metadata": {},
   "outputs": [
    {
     "data": {
      "image/png": "[encoded data removed]",
      "text/plain": [
       "<Figure size 200x200 with 1 Axes>"
      ]
     },
     "metadata": {},
     "output_type": "display_data"
    }
   ],
   "source": [
    "display_image(X[0])"
   ]
  },
  {
   "cell_type": "code",
   "execution_count": 8,
   "metadata": {},
   "outputs": [
    {
     "data": {
      "image/png": "[encoded data removed]",
      "text/plain": [
       "<Figure size 200x200 with 1 Axes>"
      ]
     },
     "metadata": {},
     "output_type": "display_data"
    }
   ],
   "source": [
    "display_image(X[1])"
   ]
  },
  {
   "cell_type": "code",
   "execution_count": 9,
   "metadata": {},
   "outputs": [
    {
     "data": {
      "text/plain": [
       "UNet(\n",
       "  (time_embed): Sequential(\n",
       "    (0): Linear(in_features=64, out_features=256, bias=True)\n",
       "    (1): Swish()\n",
       "    (2): Linear(in_features=256, out_features=256, bias=True)\n",
       "  )\n",
       "  (in_layer): Conv2d(1, 64, kernel_size=(3, 3), stride=(1, 1), padding=(1, 1))\n",
       "  (downsamples): ModuleList(\n",
       "    (0-1): 2 x TimeSequential(\n",
       "      (layers): ModuleList(\n",
       "        (0): ResNetBlock(\n",
       "          (in_layers): Sequential(\n",
       "            (0): GroupNorm(32, 64, eps=1e-05, affine=True)\n",
       "            (1): Swish()\n",
       "            (2): Conv2d(64, 64, kernel_size=(3, 3), stride=(1, 1), padding=(1, 1))\n",
       "          )\n",
       "          (time_layers): Sequential(\n",
       "            (0): Swish()\n",
       "            (1): Linear(in_features=256, out_features=64, bias=True)\n",
       "          )\n",
       "          (out_layers): Sequential(\n",
       "            (0): GroupNorm(32, 64, eps=1e-05, affine=True)\n",
       "            (1): Swish()\n",
       "            (2): Dropout(p=0, inplace=False)\n",
       "            (3): Conv2d(64, 64, kernel_size=(3, 3), stride=(1, 1), padding=(1, 1))\n",
       "          )\n",
       "          (skip_connection): Identity()\n",
       "        )\n",
       "      )\n",
       "    )\n",
       "    (2): Downsample(\n",
       "      (downsample): Conv2d(64, 64, kernel_size=(3, 3), stride=(2, 2), padding=(1, 1))\n",
       "    )\n",
       "    (3): TimeSequential(\n",
       "      (layers): ModuleList(\n",
       "        (0): ResNetBlock(\n",
       "          (in_layers): Sequential(\n",
       "            (0): GroupNorm(32, 64, eps=1e-05, affine=True)\n",
       "            (1): Swish()\n",
       "            (2): Conv2d(64, 128, kernel_size=(3, 3), stride=(1, 1), padding=(1, 1))\n",
       "          )\n",
       "          (time_layers): Sequential(\n",
       "            (0): Swish()\n",
       "            (1): Linear(in_features=256, out_features=128, bias=True)\n",
       "          )\n",
       "          (out_layers): Sequential(\n",
       "            (0): GroupNorm(32, 128, eps=1e-05, affine=True)\n",
       "            (1): Swish()\n",
       "            (2): Dropout(p=0, inplace=False)\n",
       "            (3): Conv2d(128, 128, kernel_size=(3, 3), stride=(1, 1), padding=(1, 1))\n",
       "          )\n",
       "          (skip_connection): Conv2d(64, 128, kernel_size=(3, 3), stride=(1, 1), padding=(1, 1))\n",
       "        )\n",
       "        (1): AttentionBlock(\n",
       "          (norm): GroupNorm(32, 128, eps=1e-05, affine=True)\n",
       "          (attention): MultiheadAttention(\n",
       "            (out_proj): NonDynamicallyQuantizableLinear(in_features=128, out_features=128, bias=True)\n",
       "          )\n",
       "          (out): Conv1d(128, 128, kernel_size=(1,), stride=(1,))\n",
       "        )\n",
       "      )\n",
       "    )\n",
       "    (4): TimeSequential(\n",
       "      (layers): ModuleList(\n",
       "        (0): ResNetBlock(\n",
       "          (in_layers): Sequential(\n",
       "            (0): GroupNorm(32, 128, eps=1e-05, affine=True)\n",
       "            (1): Swish()\n",
       "            (2): Conv2d(128, 128, kernel_size=(3, 3), stride=(1, 1), padding=(1, 1))\n",
       "          )\n",
       "          (time_layers): Sequential(\n",
       "            (0): Swish()\n",
       "            (1): Linear(in_features=256, out_features=128, bias=True)\n",
       "          )\n",
       "          (out_layers): Sequential(\n",
       "            (0): GroupNorm(32, 128, eps=1e-05, affine=True)\n",
       "            (1): Swish()\n",
       "            (2): Dropout(p=0, inplace=False)\n",
       "            (3): Conv2d(128, 128, kernel_size=(3, 3), stride=(1, 1), padding=(1, 1))\n",
       "          )\n",
       "          (skip_connection): Identity()\n",
       "        )\n",
       "        (1): AttentionBlock(\n",
       "          (norm): GroupNorm(32, 128, eps=1e-05, affine=True)\n",
       "          (attention): MultiheadAttention(\n",
       "            (out_proj): NonDynamicallyQuantizableLinear(in_features=128, out_features=128, bias=True)\n",
       "          )\n",
       "          (out): Conv1d(128, 128, kernel_size=(1,), stride=(1,))\n",
       "        )\n",
       "      )\n",
       "    )\n",
       "    (5): Downsample(\n",
       "      (downsample): Conv2d(128, 128, kernel_size=(3, 3), stride=(2, 2), padding=(1, 1))\n",
       "    )\n",
       "    (6): TimeSequential(\n",
       "      (layers): ModuleList(\n",
       "        (0): ResNetBlock(\n",
       "          (in_layers): Sequential(\n",
       "            (0): GroupNorm(32, 128, eps=1e-05, affine=True)\n",
       "            (1): Swish()\n",
       "            (2): Conv2d(128, 256, kernel_size=(3, 3), stride=(1, 1), padding=(1, 1))\n",
       "          )\n",
       "          (time_layers): Sequential(\n",
       "            (0): Swish()\n",
       "            (1): Linear(in_features=256, out_features=256, bias=True)\n",
       "          )\n",
       "          (out_layers): Sequential(\n",
       "            (0): GroupNorm(32, 256, eps=1e-05, affine=True)\n",
       "            (1): Swish()\n",
       "            (2): Dropout(p=0, inplace=False)\n",
       "            (3): Conv2d(256, 256, kernel_size=(3, 3), stride=(1, 1), padding=(1, 1))\n",
       "          )\n",
       "          (skip_connection): Conv2d(128, 256, kernel_size=(3, 3), stride=(1, 1), padding=(1, 1))\n",
       "        )\n",
       "      )\n",
       "    )\n",
       "    (7): TimeSequential(\n",
       "      (layers): ModuleList(\n",
       "        (0): ResNetBlock(\n",
       "          (in_layers): Sequential(\n",
       "            (0): GroupNorm(32, 256, eps=1e-05, affine=True)\n",
       "            (1): Swish()\n",
       "            (2): Conv2d(256, 256, kernel_size=(3, 3), stride=(1, 1), padding=(1, 1))\n",
       "          )\n",
       "          (time_layers): Sequential(\n",
       "            (0): Swish()\n",
       "            (1): Linear(in_features=256, out_features=256, bias=True)\n",
       "          )\n",
       "          (out_layers): Sequential(\n",
       "            (0): GroupNorm(32, 256, eps=1e-05, affine=True)\n",
       "            (1): Swish()\n",
       "            (2): Dropout(p=0, inplace=False)\n",
       "            (3): Conv2d(256, 256, kernel_size=(3, 3), stride=(1, 1), padding=(1, 1))\n",
       "          )\n",
       "          (skip_connection): Identity()\n",
       "        )\n",
       "      )\n",
       "    )\n",
       "  )\n",
       "  (middle_blocks): TimeSequential(\n",
       "    (layers): ModuleList(\n",
       "      (0): ResNetBlock(\n",
       "        (in_layers): Sequential(\n",
       "          (0): GroupNorm(32, 256, eps=1e-05, affine=True)\n",
       "          (1): Swish()\n",
       "          (2): Conv2d(256, 256, kernel_size=(3, 3), stride=(1, 1), padding=(1, 1))\n",
       "        )\n",
       "        (time_layers): Sequential(\n",
       "          (0): Swish()\n",
       "          (1): Linear(in_features=256, out_features=256, bias=True)\n",
       "        )\n",
       "        (out_layers): Sequential(\n",
       "          (0): GroupNorm(32, 256, eps=1e-05, affine=True)\n",
       "          (1): Swish()\n",
       "          (2): Dropout(p=0, inplace=False)\n",
       "          (3): Conv2d(256, 256, kernel_size=(3, 3), stride=(1, 1), padding=(1, 1))\n",
       "        )\n",
       "        (skip_connection): Identity()\n",
       "      )\n",
       "      (1): AttentionBlock(\n",
       "        (norm): GroupNorm(32, 256, eps=1e-05, affine=True)\n",
       "        (attention): MultiheadAttention(\n",
       "          (out_proj): NonDynamicallyQuantizableLinear(in_features=256, out_features=256, bias=True)\n",
       "        )\n",
       "        (out): Conv1d(256, 256, kernel_size=(1,), stride=(1,))\n",
       "      )\n",
       "      (2): ResNetBlock(\n",
       "        (in_layers): Sequential(\n",
       "          (0): GroupNorm(32, 256, eps=1e-05, affine=True)\n",
       "          (1): Swish()\n",
       "          (2): Conv2d(256, 256, kernel_size=(3, 3), stride=(1, 1), padding=(1, 1))\n",
       "        )\n",
       "        (time_layers): Sequential(\n",
       "          (0): Swish()\n",
       "          (1): Linear(in_features=256, out_features=256, bias=True)\n",
       "        )\n",
       "        (out_layers): Sequential(\n",
       "          (0): GroupNorm(32, 256, eps=1e-05, affine=True)\n",
       "          (1): Swish()\n",
       "          (2): Dropout(p=0, inplace=False)\n",
       "          (3): Conv2d(256, 256, kernel_size=(3, 3), stride=(1, 1), padding=(1, 1))\n",
       "        )\n",
       "        (skip_connection): Identity()\n",
       "      )\n",
       "    )\n",
       "  )\n",
       "  (upsamples): ModuleList(\n",
       "    (0-1): 2 x TimeSequential(\n",
       "      (layers): ModuleList(\n",
       "        (0): ResNetBlock(\n",
       "          (in_layers): Sequential(\n",
       "            (0): GroupNorm(32, 512, eps=1e-05, affine=True)\n",
       "            (1): Swish()\n",
       "            (2): Conv2d(512, 256, kernel_size=(3, 3), stride=(1, 1), padding=(1, 1))\n",
       "          )\n",
       "          (time_layers): Sequential(\n",
       "            (0): Swish()\n",
       "            (1): Linear(in_features=256, out_features=256, bias=True)\n",
       "          )\n",
       "          (out_layers): Sequential(\n",
       "            (0): GroupNorm(32, 256, eps=1e-05, affine=True)\n",
       "            (1): Swish()\n",
       "            (2): Dropout(p=0, inplace=False)\n",
       "            (3): Conv2d(256, 256, kernel_size=(3, 3), stride=(1, 1), padding=(1, 1))\n",
       "          )\n",
       "          (skip_connection): Conv2d(512, 256, kernel_size=(3, 3), stride=(1, 1), padding=(1, 1))\n",
       "        )\n",
       "      )\n",
       "    )\n",
       "    (2): TimeSequential(\n",
       "      (layers): ModuleList(\n",
       "        (0): ResNetBlock(\n",
       "          (in_layers): Sequential(\n",
       "            (0): GroupNorm(32, 384, eps=1e-05, affine=True)\n",
       "            (1): Swish()\n",
       "            (2): Conv2d(384, 256, kernel_size=(3, 3), stride=(1, 1), padding=(1, 1))\n",
       "          )\n",
       "          (time_layers): Sequential(\n",
       "            (0): Swish()\n",
       "            (1): Linear(in_features=256, out_features=256, bias=True)\n",
       "          )\n",
       "          (out_layers): Sequential(\n",
       "            (0): GroupNorm(32, 256, eps=1e-05, affine=True)\n",
       "            (1): Swish()\n",
       "            (2): Dropout(p=0, inplace=False)\n",
       "            (3): Conv2d(256, 256, kernel_size=(3, 3), stride=(1, 1), padding=(1, 1))\n",
       "          )\n",
       "          (skip_connection): Conv2d(384, 256, kernel_size=(3, 3), stride=(1, 1), padding=(1, 1))\n",
       "        )\n",
       "        (1): Upsample(\n",
       "          (upsample): Upsample(scale_factor=2.0, mode='nearest')\n",
       "          (conv): Conv2d(256, 256, kernel_size=(3, 3), stride=(1, 1), padding=(1, 1))\n",
       "        )\n",
       "      )\n",
       "    )\n",
       "    (3): TimeSequential(\n",
       "      (layers): ModuleList(\n",
       "        (0): ResNetBlock(\n",
       "          (in_layers): Sequential(\n",
       "            (0): GroupNorm(32, 384, eps=1e-05, affine=True)\n",
       "            (1): Swish()\n",
       "            (2): Conv2d(384, 128, kernel_size=(3, 3), stride=(1, 1), padding=(1, 1))\n",
       "          )\n",
       "          (time_layers): Sequential(\n",
       "            (0): Swish()\n",
       "            (1): Linear(in_features=256, out_features=128, bias=True)\n",
       "          )\n",
       "          (out_layers): Sequential(\n",
       "            (0): GroupNorm(32, 128, eps=1e-05, affine=True)\n",
       "            (1): Swish()\n",
       "            (2): Dropout(p=0, inplace=False)\n",
       "            (3): Conv2d(128, 128, kernel_size=(3, 3), stride=(1, 1), padding=(1, 1))\n",
       "          )\n",
       "          (skip_connection): Conv2d(384, 128, kernel_size=(3, 3), stride=(1, 1), padding=(1, 1))\n",
       "        )\n",
       "        (1): AttentionBlock(\n",
       "          (norm): GroupNorm(32, 128, eps=1e-05, affine=True)\n",
       "          (attention): MultiheadAttention(\n",
       "            (out_proj): NonDynamicallyQuantizableLinear(in_features=128, out_features=128, bias=True)\n",
       "          )\n",
       "          (out): Conv1d(128, 128, kernel_size=(1,), stride=(1,))\n",
       "        )\n",
       "      )\n",
       "    )\n",
       "    (4): TimeSequential(\n",
       "      (layers): ModuleList(\n",
       "        (0): ResNetBlock(\n",
       "          (in_layers): Sequential(\n",
       "            (0): GroupNorm(32, 256, eps=1e-05, affine=True)\n",
       "            (1): Swish()\n",
       "            (2): Conv2d(256, 128, kernel_size=(3, 3), stride=(1, 1), padding=(1, 1))\n",
       "          )\n",
       "          (time_layers): Sequential(\n",
       "            (0): Swish()\n",
       "            (1): Linear(in_features=256, out_features=128, bias=True)\n",
       "          )\n",
       "          (out_layers): Sequential(\n",
       "            (0): GroupNorm(32, 128, eps=1e-05, affine=True)\n",
       "            (1): Swish()\n",
       "            (2): Dropout(p=0, inplace=False)\n",
       "            (3): Conv2d(128, 128, kernel_size=(3, 3), stride=(1, 1), padding=(1, 1))\n",
       "          )\n",
       "          (skip_connection): Conv2d(256, 128, kernel_size=(3, 3), stride=(1, 1), padding=(1, 1))\n",
       "        )\n",
       "        (1): AttentionBlock(\n",
       "          (norm): GroupNorm(32, 128, eps=1e-05, affine=True)\n",
       "          (attention): MultiheadAttention(\n",
       "            (out_proj): NonDynamicallyQuantizableLinear(in_features=128, out_features=128, bias=True)\n",
       "          )\n",
       "          (out): Conv1d(128, 128, kernel_size=(1,), stride=(1,))\n",
       "        )\n",
       "      )\n",
       "    )\n",
       "    (5): TimeSequential(\n",
       "      (layers): ModuleList(\n",
       "        (0): ResNetBlock(\n",
       "          (in_layers): Sequential(\n",
       "            (0): GroupNorm(32, 192, eps=1e-05, affine=True)\n",
       "            (1): Swish()\n",
       "            (2): Conv2d(192, 128, kernel_size=(3, 3), stride=(1, 1), padding=(1, 1))\n",
       "          )\n",
       "          (time_layers): Sequential(\n",
       "            (0): Swish()\n",
       "            (1): Linear(in_features=256, out_features=128, bias=True)\n",
       "          )\n",
       "          (out_layers): Sequential(\n",
       "            (0): GroupNorm(32, 128, eps=1e-05, affine=True)\n",
       "            (1): Swish()\n",
       "            (2): Dropout(p=0, inplace=False)\n",
       "            (3): Conv2d(128, 128, kernel_size=(3, 3), stride=(1, 1), padding=(1, 1))\n",
       "          )\n",
       "          (skip_connection): Conv2d(192, 128, kernel_size=(3, 3), stride=(1, 1), padding=(1, 1))\n",
       "        )\n",
       "        (1): AttentionBlock(\n",
       "          (norm): GroupNorm(32, 128, eps=1e-05, affine=True)\n",
       "          (attention): MultiheadAttention(\n",
       "            (out_proj): NonDynamicallyQuantizableLinear(in_features=128, out_features=128, bias=True)\n",
       "          )\n",
       "          (out): Conv1d(128, 128, kernel_size=(1,), stride=(1,))\n",
       "        )\n",
       "        (2): Upsample(\n",
       "          (upsample): Upsample(scale_factor=2.0, mode='nearest')\n",
       "          (conv): Conv2d(128, 128, kernel_size=(3, 3), stride=(1, 1), padding=(1, 1))\n",
       "        )\n",
       "      )\n",
       "    )\n",
       "    (6): TimeSequential(\n",
       "      (layers): ModuleList(\n",
       "        (0): ResNetBlock(\n",
       "          (in_layers): Sequential(\n",
       "            (0): GroupNorm(32, 192, eps=1e-05, affine=True)\n",
       "            (1): Swish()\n",
       "            (2): Conv2d(192, 64, kernel_size=(3, 3), stride=(1, 1), padding=(1, 1))\n",
       "          )\n",
       "          (time_layers): Sequential(\n",
       "            (0): Swish()\n",
       "            (1): Linear(in_features=256, out_features=64, bias=True)\n",
       "          )\n",
       "          (out_layers): Sequential(\n",
       "            (0): GroupNorm(32, 64, eps=1e-05, affine=True)\n",
       "            (1): Swish()\n",
       "            (2): Dropout(p=0, inplace=False)\n",
       "            (3): Conv2d(64, 64, kernel_size=(3, 3), stride=(1, 1), padding=(1, 1))\n",
       "          )\n",
       "          (skip_connection): Conv2d(192, 64, kernel_size=(3, 3), stride=(1, 1), padding=(1, 1))\n",
       "        )\n",
       "      )\n",
       "    )\n",
       "    (7-8): 2 x TimeSequential(\n",
       "      (layers): ModuleList(\n",
       "        (0): ResNetBlock(\n",
       "          (in_layers): Sequential(\n",
       "            (0): GroupNorm(32, 128, eps=1e-05, affine=True)\n",
       "            (1): Swish()\n",
       "            (2): Conv2d(128, 64, kernel_size=(3, 3), stride=(1, 1), padding=(1, 1))\n",
       "          )\n",
       "          (time_layers): Sequential(\n",
       "            (0): Swish()\n",
       "            (1): Linear(in_features=256, out_features=64, bias=True)\n",
       "          )\n",
       "          (out_layers): Sequential(\n",
       "            (0): GroupNorm(32, 64, eps=1e-05, affine=True)\n",
       "            (1): Swish()\n",
       "            (2): Dropout(p=0, inplace=False)\n",
       "            (3): Conv2d(64, 64, kernel_size=(3, 3), stride=(1, 1), padding=(1, 1))\n",
       "          )\n",
       "          (skip_connection): Conv2d(128, 64, kernel_size=(3, 3), stride=(1, 1), padding=(1, 1))\n",
       "        )\n",
       "      )\n",
       "    )\n",
       "  )\n",
       "  (out_layer): Sequential(\n",
       "    (0): GroupNorm(32, 64, eps=1e-05, affine=True)\n",
       "    (1): Swish()\n",
       "    (2): Conv2d(64, 1, kernel_size=(3, 3), stride=(1, 1), padding=(1, 1))\n",
       "  )\n",
       ")"
      ]
     },
     "execution_count": 9,
     "metadata": {},
     "output_type": "execute_result"
    }
   ],
   "source": [
    "unet = UNet(in_channels=1, model_channels=64, out_channels=1, channel_mult=(1, 2, 4), attention_resolutions=[2], num_res_blocks=2)\n",
    "unet"
   ]
  },
  {
   "cell_type": "code",
   "execution_count": 10,
   "metadata": {},
   "outputs": [
    {
     "data": {
      "text/plain": [
       "torch.Size([2, 1, 32, 32])"
      ]
     },
     "execution_count": 10,
     "metadata": {},
     "output_type": "execute_result"
    }
   ],
   "source": [
    "unet(X, torch.tensor([5, 6])).shape"
   ]
  },
  {
   "cell_type": "code",
   "execution_count": 11,
   "metadata": {},
   "outputs": [],
   "source": [
    "beta_start = 0.0001\n",
    "beta_end = 0.02\n",
    "T = 1000\n",
    "\n",
    "diffusion = GaussianDiffusion(\n",
    "    beta_start=beta_start,\n",
    "    beta_end=beta_end,\n",
    "    timesteps=T\n",
    ")"
   ]
  },
  {
   "cell_type": "code",
   "execution_count": 71,
   "metadata": {},
   "outputs": [
    {
     "data": {
      "text/plain": [
       "torch.Size([2, 1, 32, 32])"
      ]
     },
     "execution_count": 71,
     "metadata": {},
     "output_type": "execute_result"
    }
   ],
   "source": [
    "noise = torch.randn_like(X)\n",
    "noise.shape"
   ]
  },
  {
   "cell_type": "code",
   "execution_count": 72,
   "metadata": {},
   "outputs": [
    {
     "data": {
      "text/plain": [
       "torch.Size([2, 1, 32, 32])"
      ]
     },
     "execution_count": 72,
     "metadata": {},
     "output_type": "execute_result"
    }
   ],
   "source": [
    "t = torch.tensor([999]*2)\n",
    "x_T = diffusion.q_sample(X, t, noise)\n",
    "x_T.shape"
   ]
  },
  {
   "cell_type": "code",
   "execution_count": 73,
   "metadata": {},
   "outputs": [
    {
     "data": {
      "image/png": "[encoded data removed]",
      "text/plain": [
       "<Figure size 200x200 with 1 Axes>"
      ]
     },
     "metadata": {},
     "output_type": "display_data"
    }
   ],
   "source": [
    "display_image(x_T[0])"
   ]
  },
  {
   "cell_type": "code",
   "execution_count": 74,
   "metadata": {},
   "outputs": [
    {
     "data": {
      "image/png": "[encoded data removed]",
      "text/plain": [
       "<Figure size 200x200 with 1 Axes>"
      ]
     },
     "metadata": {},
     "output_type": "display_data"
    }
   ],
   "source": [
    "display_image(x_T[1])"
   ]
  },
  {
   "cell_type": "code",
   "execution_count": 75,
   "metadata": {},
   "outputs": [],
   "source": [
    "# make model that returns predicted noise\n",
    "def create_model(noise):\n",
    "    def model(x, t):\n",
    "        # return torch.randn((1, 1, 28, 28))\n",
    "        # return torch.randn((1, 3, 32, 32))\n",
    "        return noise\n",
    "    \n",
    "    return model"
   ]
  },
  {
   "cell_type": "code",
   "execution_count": 77,
   "metadata": {},
   "outputs": [
    {
     "data": {
      "text/plain": [
       "<function __main__.create_model.<locals>.model(x, t)>"
      ]
     },
     "execution_count": 77,
     "metadata": {},
     "output_type": "execute_result"
    }
   ],
   "source": [
    "model = create_model(noise)\n",
    "model"
   ]
  },
  {
   "cell_type": "code",
   "execution_count": 35,
   "metadata": {},
   "outputs": [],
   "source": [
    "sample = diffusion.sample(model, x_T)"
   ]
  },
  {
   "cell_type": "code",
   "execution_count": 36,
   "metadata": {},
   "outputs": [
    {
     "data": {
      "image/png": "[encoded data removed]",
      "text/plain": [
       "<Figure size 200x200 with 1 Axes>"
      ]
     },
     "metadata": {},
     "output_type": "display_data"
    }
   ],
   "source": [
    "display_image(sample[0])"
   ]
  },
  {
   "cell_type": "code",
   "execution_count": 37,
   "metadata": {},
   "outputs": [
    {
     "data": {
      "image/png": "[encoded data removed]",
      "text/plain": [
       "<Figure size 200x200 with 1 Axes>"
      ]
     },
     "metadata": {},
     "output_type": "display_data"
    }
   ],
   "source": [
    "display_image(sample[1])"
   ]
  },
  {
   "cell_type": "code",
   "execution_count": 52,
   "metadata": {},
   "outputs": [],
   "source": [
    "samples = []\n",
    "\n",
    "x_t = x_T\n",
    "x_0 = X\n",
    "\n",
    "for t in range(T - 1, -1, -1):\n",
    "    t = torch.tensor([t])\n",
    "    mean, var = diffusion.q_posterior_mean_var(x_t, x_0, t)\n",
    "    z = torch.randn_like(x_t)\n",
    "    x_t = mean + (var ** 0.5) * z\n",
    "    samples.append(x_t) "
   ]
  },
  {
   "cell_type": "code",
   "execution_count": 55,
   "metadata": {},
   "outputs": [
    {
     "data": {
      "image/png": "[encoded data removed]",
      "text/plain": [
       "<Figure size 200x200 with 1 Axes>"
      ]
     },
     "metadata": {},
     "output_type": "display_data"
    }
   ],
   "source": [
    "i = 999\n",
    "\n",
    "display_image(samples[i][0])"
   ]
  },
  {
   "cell_type": "code",
   "execution_count": 56,
   "metadata": {},
   "outputs": [
    {
     "data": {
      "image/png": "[encoded data removed]",
      "text/plain": [
       "<Figure size 200x200 with 1 Axes>"
      ]
     },
     "metadata": {},
     "output_type": "display_data"
    }
   ],
   "source": [
    "display_image(samples[i][1])"
   ]
  },
  {
   "cell_type": "code",
   "execution_count": 94,
   "metadata": {},
   "outputs": [],
   "source": [
    "t = torch.tensor([999] * 2)\n",
    "pred_noise = model(X, t)"
   ]
  },
  {
   "cell_type": "code",
   "execution_count": 95,
   "metadata": {},
   "outputs": [
    {
     "data": {
      "text/plain": [
       "tensor([[[[-1.7728, -0.0848, -0.3950,  ..., -0.1842,  1.7374,  0.1723],\n",
       "          [ 0.5263,  0.8423,  1.6371,  ..., -2.1535, -0.4162, -0.0097],\n",
       "          [ 1.1674,  0.1858,  1.8028,  ..., -0.6016, -0.0112,  0.3504],\n",
       "          ...,\n",
       "          [ 0.2705, -1.0539, -1.4393,  ..., -0.8757, -0.9106, -0.6909],\n",
       "          [-1.7463, -0.7607,  0.5617,  ...,  1.0680, -0.5506,  0.1713],\n",
       "          [ 1.3564, -0.6985,  0.2488,  ...,  0.6439,  1.8225, -0.0973]]],\n",
       "\n",
       "\n",
       "        [[[ 0.1381, -0.5526,  2.2910,  ...,  0.3388,  0.5055, -0.8998],\n",
       "          [-0.8585,  0.5686,  0.6397,  ...,  0.0396, -2.5714,  0.1960],\n",
       "          [ 0.5160,  1.3045, -0.6138,  ...,  1.1680, -0.3805,  0.3775],\n",
       "          ...,\n",
       "          [-1.0122, -0.1286,  0.6939,  ..., -1.9367,  0.5752,  0.5668],\n",
       "          [-0.2293, -0.7210,  1.5476,  ...,  0.8833,  1.4477, -1.6353],\n",
       "          [-0.9254, -0.5485,  1.5623,  ...,  0.2790, -0.1290, -1.8896]]]])"
      ]
     },
     "execution_count": 95,
     "metadata": {},
     "output_type": "execute_result"
    }
   ],
   "source": [
    "model(\n",
    "X, 0\n",
    ")"
   ]
  },
  {
   "cell_type": "code",
   "execution_count": 96,
   "metadata": {},
   "outputs": [],
   "source": [
    "pred_x0 = (x_T - (1 - diffusion.alpha_bar[t]).unsqueeze(-1).unsqueeze(-1).unsqueeze(-1) ** 0.5 * pred_noise) / diffusion.alpha_bar[t].unsqueeze(-1).unsqueeze(-1).unsqueeze(-1) ** 0.5"
   ]
  },
  {
   "cell_type": "code",
   "execution_count": 97,
   "metadata": {},
   "outputs": [
    {
     "data": {
      "image/png": "[encoded data removed]",
      "text/plain": [
       "<Figure size 200x200 with 1 Axes>"
      ]
     },
     "metadata": {},
     "output_type": "display_data"
    }
   ],
   "source": [
    "display_image(pred_x0[0])"
   ]
  },
  {
   "cell_type": "code",
   "execution_count": 98,
   "metadata": {},
   "outputs": [
    {
     "data": {
      "image/png": "[encoded data removed]",
      "text/plain": [
       "<Figure size 200x200 with 1 Axes>"
      ]
     },
     "metadata": {},
     "output_type": "display_data"
    }
   ],
   "source": [
    "display_image(pred_x0[1])"
   ]
  },
  {
   "cell_type": "code",
   "execution_count": 102,
   "metadata": {},
   "outputs": [
    {
     "data": {
      "text/plain": [
       "torch.Size([64, 1, 32, 32])"
      ]
     },
     "execution_count": 102,
     "metadata": {},
     "output_type": "execute_result"
    }
   ],
   "source": [
    "noise = torch.randn((64, 1, 32, 32))\n",
    "\n",
    "model = create_model(noise)\n",
    "\n",
    "samples = diffusion.sample(model, noise, clip_denoised=True)\n",
    "samples.shape"
   ]
  },
  {
   "cell_type": "code",
   "execution_count": 103,
   "metadata": {},
   "outputs": [],
   "source": [
    "from PIL import Image\n",
    "import torchvision.transforms.functional as F\n",
    "\n",
    "def batch_to_images(batch):\n",
    "    images = []\n",
    "\n",
    "    for tensor in batch:\n",
    "        mode = \"RGB\" if tensor.shape[0] == 3 else \"L\"\n",
    "        image = F.to_pil_image(tensor, mode=mode)\n",
    "        images.append(image)\n",
    "        \n",
    "\n",
    "    return images"
   ]
  },
  {
   "cell_type": "code",
   "execution_count": 104,
   "metadata": {},
   "outputs": [
    {
     "name": "stdout",
     "output_type": "stream",
     "text": [
      "<PIL.Image.Image image mode=L size=32x32 at 0x14A6BC2B4D60>\n",
      "<PIL.Image.Image image mode=L size=32x32 at 0x14A6BC2B62C0>\n",
      "<PIL.Image.Image image mode=L size=32x32 at 0x14A6BC2B4D60>\n",
      "<PIL.Image.Image image mode=L size=32x32 at 0x14A6BC2B62C0>\n",
      "<PIL.Image.Image image mode=L size=32x32 at 0x14A6BC2B4D60>\n",
      "<PIL.Image.Image image mode=L size=32x32 at 0x14A6BC2B62C0>\n",
      "<PIL.Image.Image image mode=L size=32x32 at 0x14A6BC2B4D60>\n",
      "<PIL.Image.Image image mode=L size=32x32 at 0x14A6BC2B62C0>\n",
      "<PIL.Image.Image image mode=L size=32x32 at 0x14A6BC2B4D60>\n",
      "<PIL.Image.Image image mode=L size=32x32 at 0x14A6BC2B62C0>\n",
      "<PIL.Image.Image image mode=L size=32x32 at 0x14A6BC2B4D60>\n",
      "<PIL.Image.Image image mode=L size=32x32 at 0x14A6BC2B62C0>\n",
      "<PIL.Image.Image image mode=L size=32x32 at 0x14A6BC2B4D60>\n",
      "<PIL.Image.Image image mode=L size=32x32 at 0x14A6BC2B62C0>\n",
      "<PIL.Image.Image image mode=L size=32x32 at 0x14A6BC2B4D60>\n",
      "<PIL.Image.Image image mode=L size=32x32 at 0x14A6BC2B62C0>\n",
      "<PIL.Image.Image image mode=L size=32x32 at 0x14A6BC2B4D60>\n",
      "<PIL.Image.Image image mode=L size=32x32 at 0x14A6BC2B62C0>\n",
      "<PIL.Image.Image image mode=L size=32x32 at 0x14A6BC2B4D60>\n",
      "<PIL.Image.Image image mode=L size=32x32 at 0x14A6BC2B62C0>\n",
      "<PIL.Image.Image image mode=L size=32x32 at 0x14A6BC2B4D60>\n",
      "<PIL.Image.Image image mode=L size=32x32 at 0x14A6BC2B62C0>\n",
      "<PIL.Image.Image image mode=L size=32x32 at 0x14A6BC2B4D60>\n",
      "<PIL.Image.Image image mode=L size=32x32 at 0x14A6BC2B62C0>\n",
      "<PIL.Image.Image image mode=L size=32x32 at 0x14A6BC2B4D60>\n",
      "<PIL.Image.Image image mode=L size=32x32 at 0x14A6BC2B62C0>\n",
      "<PIL.Image.Image image mode=L size=32x32 at 0x14A6BC2B4D60>\n",
      "<PIL.Image.Image image mode=L size=32x32 at 0x14A6BC2B62C0>\n",
      "<PIL.Image.Image image mode=L size=32x32 at 0x14A6BC2B4D60>\n",
      "<PIL.Image.Image image mode=L size=32x32 at 0x14A6BC2B62C0>\n",
      "<PIL.Image.Image image mode=L size=32x32 at 0x14A6BC2B4D60>\n",
      "<PIL.Image.Image image mode=L size=32x32 at 0x14A6BC2B62C0>\n",
      "<PIL.Image.Image image mode=L size=32x32 at 0x14A6BC2B4D60>\n",
      "<PIL.Image.Image image mode=L size=32x32 at 0x14A6BC2B62C0>\n",
      "<PIL.Image.Image image mode=L size=32x32 at 0x14A6BC2B4D60>\n",
      "<PIL.Image.Image image mode=L size=32x32 at 0x14A6BC2B62C0>\n",
      "<PIL.Image.Image image mode=L size=32x32 at 0x14A6BC2B4D60>\n",
      "<PIL.Image.Image image mode=L size=32x32 at 0x14A6BC2B62C0>\n",
      "<PIL.Image.Image image mode=L size=32x32 at 0x14A6BC2B4D60>\n",
      "<PIL.Image.Image image mode=L size=32x32 at 0x14A6BC2B62C0>\n",
      "<PIL.Image.Image image mode=L size=32x32 at 0x14A6BC2B4D60>\n",
      "<PIL.Image.Image image mode=L size=32x32 at 0x14A6BC2B62C0>\n",
      "<PIL.Image.Image image mode=L size=32x32 at 0x14A6BC2B4D60>\n",
      "<PIL.Image.Image image mode=L size=32x32 at 0x14A6BC2B62C0>\n",
      "<PIL.Image.Image image mode=L size=32x32 at 0x14A6BC2B4D60>\n",
      "<PIL.Image.Image image mode=L size=32x32 at 0x14A6BC2B62C0>\n",
      "<PIL.Image.Image image mode=L size=32x32 at 0x14A6BC2B4D60>\n",
      "<PIL.Image.Image image mode=L size=32x32 at 0x14A6BC2B62C0>\n",
      "<PIL.Image.Image image mode=L size=32x32 at 0x14A6BC2B4D60>\n",
      "<PIL.Image.Image image mode=L size=32x32 at 0x14A6BC2B62C0>\n",
      "<PIL.Image.Image image mode=L size=32x32 at 0x14A6BC2B4D60>\n",
      "<PIL.Image.Image image mode=L size=32x32 at 0x14A6BC2B62C0>\n",
      "<PIL.Image.Image image mode=L size=32x32 at 0x14A6BC2B4D60>\n",
      "<PIL.Image.Image image mode=L size=32x32 at 0x14A6BC2B62C0>\n",
      "<PIL.Image.Image image mode=L size=32x32 at 0x14A6BC2B4D60>\n",
      "<PIL.Image.Image image mode=L size=32x32 at 0x14A6BC2B62C0>\n",
      "<PIL.Image.Image image mode=L size=32x32 at 0x14A6BC2B4D60>\n",
      "<PIL.Image.Image image mode=L size=32x32 at 0x14A6BC2B62C0>\n",
      "<PIL.Image.Image image mode=L size=32x32 at 0x14A6BC2B4D60>\n",
      "<PIL.Image.Image image mode=L size=32x32 at 0x14A6BC2B62C0>\n",
      "<PIL.Image.Image image mode=L size=32x32 at 0x14A6BC2B4D60>\n",
      "<PIL.Image.Image image mode=L size=32x32 at 0x14A6BC2B62C0>\n",
      "<PIL.Image.Image image mode=L size=32x32 at 0x14A6BC2B4D60>\n",
      "<PIL.Image.Image image mode=L size=32x32 at 0x14A6BC2B62C0>\n"
     ]
    },
    {
     "data": {
      "text/plain": [
       "[]"
      ]
     },
     "execution_count": 104,
     "metadata": {},
     "output_type": "execute_result"
    }
   ],
   "source": [
    "batch_to_images(samples)"
   ]
  },
  {
   "cell_type": "code",
   "execution_count": null,
   "metadata": {},
   "outputs": [],
   "source": []
  }
 ],
 "metadata": {
  "kernelspec": {
   "display_name": "ddpm-NolEjOLK-py3.10",
   "language": "python",
   "name": "python3"
  },
  "language_info": {
   "codemirror_mode": {
    "name": "ipython",
    "version": 3
   },
   "file_extension": ".py",
   "mimetype": "text/x-python",
   "name": "python",
   "nbconvert_exporter": "python",
   "pygments_lexer": "ipython3",
   "version": "3.10.10"
  }
 },
 "nbformat": 4,
 "nbformat_minor": 2
}
