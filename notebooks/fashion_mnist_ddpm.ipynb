{
 "cells": [
  {
   "cell_type": "code",
   "execution_count": 1,
   "metadata": {},
   "outputs": [],
   "source": [
    "%load_ext autoreload\n",
    "%autoreload 2"
   ]
  },
  {
   "cell_type": "code",
   "execution_count": 2,
   "metadata": {},
   "outputs": [],
   "source": [
    "import sys\n",
    "sys.path.append(\"../\")\n",
    "\n",
    "from ddpm.pipeline import DDPMPipeline"
   ]
  },
  {
   "cell_type": "code",
   "execution_count": 3,
   "metadata": {},
   "outputs": [],
   "source": [
    "pipe = DDPMPipeline.from_checkpoint(\"../fashionmnist1/\").to(\"cuda\")"
   ]
  },
  {
   "cell_type": "code",
   "execution_count": 62,
   "metadata": {},
   "outputs": [
    {
     "name": "stderr",
     "output_type": "stream",
     "text": [
      "  1%|          | 10/1000 [00:00<00:10, 96.18it/s]"
     ]
    },
    {
     "name": "stderr",
     "output_type": "stream",
     "text": [
      "100%|██████████| 1000/1000 [00:10<00:00, 98.44it/s]\n"
     ]
    }
   ],
   "source": [
    "output = pipe(\n",
    "    num_images=1,\n",
    "    image_size=32,\n",
    "    output_samples=True\n",
    ")"
   ]
  },
  {
   "cell_type": "code",
   "execution_count": 63,
   "metadata": {},
   "outputs": [],
   "source": [
    "def make_video(arrays):\n",
    "    import imageio\n",
    "    import numpy as np\n",
    "    from PIL import Image\n",
    "\n",
    "\n",
    "    arrays = [array.permute((1, 2, 0)).squeeze(-1) * 255 for array in arrays]\n",
    "    arrays = [array.cpu().numpy().astype(np.uint8) for array in arrays]\n",
    "\n",
    "\n",
    "    arrays = [Image.fromarray(array).resize((256, 256), 0) for array in arrays]\n",
    "\n",
    "    # Convert tensors to numpy arrays and ensure they are in uint8 format\n",
    "    # images = [array.numpy().astype(np.uint8) for array in arrays]\n",
    "    images = [np.array(array) for array in arrays]\n",
    "\n",
    "    # Create a video writer object using imageio\n",
    "    writer = imageio.get_writer('output_video.mp4', fps=120)  # You can change fps to your desired frame rate\n",
    "\n",
    "    # Write each frame to the video\n",
    "    for img in images:\n",
    "        writer.append_data(img)\n",
    "\n",
    "    # Close the writer to finalize the video\n",
    "    writer.close()    "
   ]
  },
  {
   "cell_type": "code",
   "execution_count": 64,
   "metadata": {},
   "outputs": [],
   "source": [
    "make_video([sample[0] for sample in output.samples[::-1]])"
   ]
  },
  {
   "cell_type": "code",
   "execution_count": 65,
   "metadata": {},
   "outputs": [
    {
     "data": {
      "text/plain": [
       "1000"
      ]
     },
     "execution_count": 65,
     "metadata": {},
     "output_type": "execute_result"
    }
   ],
   "source": [
    "len(output.samples)"
   ]
  },
  {
   "cell_type": "code",
   "execution_count": 66,
   "metadata": {},
   "outputs": [
    {
     "data": {
      "image/jpeg": "[encoded data removed]",
      "image/png": "[encoded data removed]",
      "text/plain": [
       "<PIL.Image.Image image mode=L size=256x256>"
      ]
     },
     "execution_count": 66,
     "metadata": {},
     "output_type": "execute_result"
    }
   ],
   "source": [
    "output.images[0].resize((256, 256), 0)"
   ]
  },
  {
   "cell_type": "code",
   "execution_count": null,
   "metadata": {},
   "outputs": [],
   "source": []
  }
 ],
 "metadata": {
  "kernelspec": {
   "display_name": "ddpm-NolEjOLK-py3.10",
   "language": "python",
   "name": "python3"
  },
  "language_info": {
   "codemirror_mode": {
    "name": "ipython",
    "version": 3
   },
   "file_extension": ".py",
   "mimetype": "text/x-python",
   "name": "python",
   "nbconvert_exporter": "python",
   "pygments_lexer": "ipython3",
   "version": "3.10.10"
  }
 },
 "nbformat": 4,
 "nbformat_minor": 2
}
